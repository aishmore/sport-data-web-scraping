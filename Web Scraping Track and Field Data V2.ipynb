{
 "cells": [
  {
   "cell_type": "markdown",
   "metadata": {},
   "source": [
    "Note: print statements and variable calls have been commented out to improve readability of the jupyter notebook"
   ]
  },
  {
   "cell_type": "code",
   "execution_count": 1,
   "metadata": {},
   "outputs": [],
   "source": [
    "#Import libraries for data extraction\n",
    "import csv\n",
    "import requests \n",
    "from bs4 import BeautifulSoup\n",
    "import pandas as pd\n",
    "from re import search"
   ]
  },
  {
   "cell_type": "code",
   "execution_count": 2,
   "metadata": {},
   "outputs": [],
   "source": [
    "#Enter url for desired site\n",
    "url = \"https://racedaytiming.ca/results/2017USPORTSXCMen\""
   ]
  },
  {
   "cell_type": "code",
   "execution_count": 3,
   "metadata": {},
   "outputs": [],
   "source": [
    "#Retrieve and process site information\n",
    "page = requests.get(url)\n",
    "soup = BeautifulSoup(page.content, 'html.parser')"
   ]
  },
  {
   "cell_type": "code",
   "execution_count": 4,
   "metadata": {
    "scrolled": true
   },
   "outputs": [],
   "source": [
    "#Preview site as HTML content\n",
    "#print(soup.prettify())"
   ]
  },
  {
   "cell_type": "code",
   "execution_count": 16,
   "metadata": {},
   "outputs": [
    {
     "data": {
      "text/plain": [
       "[<a class=\"navbar-brand mr-auto\" href=\"/\">\n",
       " <img alt=\"RaceDay Timing\" class=\"main-logo img-fluid\" height=\"50px\" src=\"/images/racedaytiming-logo-white.svg\" width=\"227px\"/>\n",
       " </a>,\n",
       " <a class=\"nav-link\" href=\"/results.html\">Results</a>,\n",
       " <a class=\"nav-link\" href=\"/series-results.html\">Series Results</a>,\n",
       " <a class=\"nav-link\" href=\"/event-services.html\">Event Services</a>,\n",
       " <a class=\"nav-link\" href=\"/participant-services.html\">Participant Services</a>,\n",
       " <a class=\"nav-link\" href=\"/contact.html\">Contact</a>,\n",
       " <a class=\"btn btn-primary login-btn\" href=\"/account\">Log In </a>,\n",
       " <a class=\"active\" href=\"/results/2017USPORTSXCMen\">FINAL</a>,\n",
       " <a class=\"\" href=\"/results/2017-11-09-15-50-20\">LAP 4</a>,\n",
       " <a class=\"\" href=\"/results/2017USPORTSXCMenLap3\">LAP 3</a>,\n",
       " <a class=\"\" href=\"/results/2017USPORTSXCMenLap2\">LAP 2</a>,\n",
       " <a class=\"\" href=\"/results/2017USPORTSXCMenLap1\">LAP 1</a>,\n",
       " <a class=\"race-info-website\" href=\"https://usports.ca/en/championships/cross-country/x\">Event Website</a>,\n",
       " <a class=\"race-info-support-link\" href=\"mailto:mark@racedaytiming.ca\">Mark Nelson</a>,\n",
       " <a class=\"nav-link active\" data-toggle=\"tab\" href=\"#results\" id=\"home-tab\" role=\"tab\">Results</a>]"
      ]
     },
     "execution_count": 16,
     "metadata": {},
     "output_type": "execute_result"
    }
   ],
   "source": [
    "#Get all instances of tags that would contain relevant data\n",
    "text_1 = soup.find_all('a')\n",
    "#Preview selection\n",
    "text_1[0:15]"
   ]
  },
  {
   "cell_type": "markdown",
   "metadata": {},
   "source": [
    "We can see that from a bit of scrolling we find the elements that contain the athlete's name and rank. <br> This gives us the class as well which is \"full-results-btn\", which we can use to filter down our search.\n",
    "\n",
    "Note: This is specific to this site and will only work for records retrieved from this site."
   ]
  },
  {
   "cell_type": "code",
   "execution_count": 17,
   "metadata": {},
   "outputs": [
    {
     "data": {
      "text/plain": [
       "[<a class=\"full-results-btn\" href=\"/results/2017USPORTSXCMen/Yves+Sikubwabo_1\"><span>View full <br/> results</span><i aria-hidden=\"true\" class=\"fa fa-chevron-right\"></i></a>,\n",
       " <a class=\"full-results-btn\" href=\"/results/2017USPORTSXCMen/Connor+Black_2\"><span>View full <br/> results</span><i aria-hidden=\"true\" class=\"fa fa-chevron-right\"></i></a>,\n",
       " <a class=\"full-results-btn\" href=\"/results/2017USPORTSXCMen/Ben+Carson_3\"><span>View full <br/> results</span><i aria-hidden=\"true\" class=\"fa fa-chevron-right\"></i></a>,\n",
       " <a class=\"full-results-btn\" href=\"/results/2017USPORTSXCMen/Russell+Pennock_4\"><span>View full <br/> results</span><i aria-hidden=\"true\" class=\"fa fa-chevron-right\"></i></a>,\n",
       " <a class=\"full-results-btn\" href=\"/results/2017USPORTSXCMen/Alexander+James_5\"><span>View full <br/> results</span><i aria-hidden=\"true\" class=\"fa fa-chevron-right\"></i></a>,\n",
       " <a class=\"full-results-btn\" href=\"/results/2017USPORTSXCMen/Dany+Racine_6\"><span>View full <br/> results</span><i aria-hidden=\"true\" class=\"fa fa-chevron-right\"></i></a>,\n",
       " <a class=\"full-results-btn\" href=\"/results/2017USPORTSXCMen/Eric+Wynands_7\"><span>View full <br/> results</span><i aria-hidden=\"true\" class=\"fa fa-chevron-right\"></i></a>,\n",
       " <a class=\"full-results-btn\" href=\"/results/2017USPORTSXCMen/Sergio+Raez+Villanueva_8\"><span>View full <br/> results</span><i aria-hidden=\"true\" class=\"fa fa-chevron-right\"></i></a>,\n",
       " <a class=\"full-results-btn\" href=\"/results/2017USPORTSXCMen/Mark+Patton_9\"><span>View full <br/> results</span><i aria-hidden=\"true\" class=\"fa fa-chevron-right\"></i></a>,\n",
       " <a class=\"full-results-btn\" href=\"/results/2017USPORTSXCMen/Angus+Rawling_10\"><span>View full <br/> results</span><i aria-hidden=\"true\" class=\"fa fa-chevron-right\"></i></a>,\n",
       " <a class=\"full-results-btn\" href=\"/results/2017USPORTSXCMen/Shawn+Master_11\"><span>View full <br/> results</span><i aria-hidden=\"true\" class=\"fa fa-chevron-right\"></i></a>,\n",
       " <a class=\"full-results-btn\" href=\"/results/2017USPORTSXCMen/Declan+White_12\"><span>View full <br/> results</span><i aria-hidden=\"true\" class=\"fa fa-chevron-right\"></i></a>,\n",
       " <a class=\"full-results-btn\" href=\"/results/2017USPORTSXCMen/Andrew+Nebel_13\"><span>View full <br/> results</span><i aria-hidden=\"true\" class=\"fa fa-chevron-right\"></i></a>,\n",
       " <a class=\"full-results-btn\" href=\"/results/2017USPORTSXCMen/Stefan+Daniel_14\"><span>View full <br/> results</span><i aria-hidden=\"true\" class=\"fa fa-chevron-right\"></i></a>,\n",
       " <a class=\"full-results-btn\" href=\"/results/2017USPORTSXCMen/Andrew+Shepherd_15\"><span>View full <br/> results</span><i aria-hidden=\"true\" class=\"fa fa-chevron-right\"></i></a>]"
      ]
     },
     "execution_count": 17,
     "metadata": {},
     "output_type": "execute_result"
    }
   ],
   "source": [
    "#Get all instances filtered by class\n",
    "text_2 = soup.find_all('a', class_='full-results-btn')\n",
    "#Preview selection\n",
    "text_2[0:15]"
   ]
  },
  {
   "cell_type": "code",
   "execution_count": 12,
   "metadata": {},
   "outputs": [],
   "source": [
    "#Get required text from these instances\n",
    "links_with_text = []\n",
    "for a in soup.find_all('a', class_='full-results-btn', href=True): \n",
    "    if a.text: \n",
    "        links_with_text.append(a['href'])"
   ]
  },
  {
   "cell_type": "code",
   "execution_count": 13,
   "metadata": {},
   "outputs": [
    {
     "data": {
      "text/plain": [
       "['/results/2017USPORTSXCMen/Yves+Sikubwabo_1',\n",
       " '/results/2017USPORTSXCMen/Connor+Black_2',\n",
       " '/results/2017USPORTSXCMen/Ben+Carson_3',\n",
       " '/results/2017USPORTSXCMen/Russell+Pennock_4',\n",
       " '/results/2017USPORTSXCMen/Alexander+James_5',\n",
       " '/results/2017USPORTSXCMen/Dany+Racine_6',\n",
       " '/results/2017USPORTSXCMen/Eric+Wynands_7',\n",
       " '/results/2017USPORTSXCMen/Sergio+Raez+Villanueva_8',\n",
       " '/results/2017USPORTSXCMen/Mark+Patton_9',\n",
       " '/results/2017USPORTSXCMen/Angus+Rawling_10',\n",
       " '/results/2017USPORTSXCMen/Shawn+Master_11',\n",
       " '/results/2017USPORTSXCMen/Declan+White_12',\n",
       " '/results/2017USPORTSXCMen/Andrew+Nebel_13',\n",
       " '/results/2017USPORTSXCMen/Stefan+Daniel_14',\n",
       " '/results/2017USPORTSXCMen/Andrew+Shepherd_15',\n",
       " '/results/2017USPORTSXCMen/Benjamin+Workman_16',\n",
       " '/results/2017USPORTSXCMen/Jean-Simon+Desgagnes_17',\n",
       " '/results/2017USPORTSXCMen/Braydon+Clarke_18',\n",
       " '/results/2017USPORTSXCMen/Joshua+McGillivray_19',\n",
       " '/results/2017USPORTSXCMen/Max+Turek_20']"
      ]
     },
     "execution_count": 13,
     "metadata": {},
     "output_type": "execute_result"
    }
   ],
   "source": [
    "#Preview first twenty text values obtained\n",
    "links_with_text[:20]"
   ]
  },
  {
   "cell_type": "code",
   "execution_count": 29,
   "metadata": {},
   "outputs": [],
   "source": [
    "#Now, we will do this for all the availible pages\n",
    "links_with_text = []\n",
    "for pg in range(1,4):\n",
    "    url = \"https://racedaytiming.ca/results/2017USPORTSXCMen?page={}\".format(pg)\n",
    "    page = requests.get(url)\n",
    "    soup = BeautifulSoup(page.content, 'html.parser')\n",
    "    for a in soup.find_all('a', class_='full-results-btn', href=True): \n",
    "        if a.text: \n",
    "            links_with_text.append(a['href'])"
   ]
  },
  {
   "cell_type": "code",
   "execution_count": 19,
   "metadata": {},
   "outputs": [
    {
     "data": {
      "text/plain": [
       "['/results/2017USPORTSXCMen/Yves+Sikubwabo_1',\n",
       " '/results/2017USPORTSXCMen/Connor+Black_2',\n",
       " '/results/2017USPORTSXCMen/Ben+Carson_3',\n",
       " '/results/2017USPORTSXCMen/Russell+Pennock_4',\n",
       " '/results/2017USPORTSXCMen/Alexander+James_5',\n",
       " '/results/2017USPORTSXCMen/Dany+Racine_6',\n",
       " '/results/2017USPORTSXCMen/Eric+Wynands_7',\n",
       " '/results/2017USPORTSXCMen/Sergio+Raez+Villanueva_8',\n",
       " '/results/2017USPORTSXCMen/Mark+Patton_9',\n",
       " '/results/2017USPORTSXCMen/Angus+Rawling_10',\n",
       " '/results/2017USPORTSXCMen/Shawn+Master_11',\n",
       " '/results/2017USPORTSXCMen/Declan+White_12',\n",
       " '/results/2017USPORTSXCMen/Andrew+Nebel_13',\n",
       " '/results/2017USPORTSXCMen/Stefan+Daniel_14',\n",
       " '/results/2017USPORTSXCMen/Andrew+Shepherd_15']"
      ]
     },
     "execution_count": 19,
     "metadata": {},
     "output_type": "execute_result"
    }
   ],
   "source": [
    "#Preview list of text data from pages\n",
    "links_with_text[0:15]"
   ]
  },
  {
   "cell_type": "code",
   "execution_count": 20,
   "metadata": {},
   "outputs": [
    {
     "name": "stdout",
     "output_type": "stream",
     "text": [
      "['', 'results', '2017USPORTSXCMen', 'Yves+Sikubwabo_1']\n",
      "\n",
      "results\n",
      "2017USPORTSXCMen\n",
      "Yves+Sikubwabo_1\n"
     ]
    }
   ],
   "source": [
    "#Get general text string info\n",
    "txt = links_with_text[0]\n",
    "\n",
    "#Length of string\n",
    "print(txt.split('/'))\n",
    "print(txt.split('/')[0])\n",
    "print(txt.split('/')[1])\n",
    "print(txt.split('/')[2])\n",
    "print(txt.split('/')[3])"
   ]
  },
  {
   "cell_type": "code",
   "execution_count": 21,
   "metadata": {},
   "outputs": [],
   "source": [
    "#Parse string values to get valid text data\n",
    "year_event = []\n",
    "name_rank = []\n",
    "for text in links_with_text:\n",
    "    nr = text.split(\"/\")[3]\n",
    "    ye = text.split(\"/\")[2]\n",
    "    name_rank.append(nr)\n",
    "    year_event.append(ye)"
   ]
  },
  {
   "cell_type": "code",
   "execution_count": 22,
   "metadata": {},
   "outputs": [],
   "source": [
    "#Add information to lists\n",
    "year = []\n",
    "event = []\n",
    "for text in year_event:\n",
    "    y = text[0:4]\n",
    "    e = text[4:]\n",
    "    year.append(y)\n",
    "    event.append(e)"
   ]
  },
  {
   "cell_type": "code",
   "execution_count": 23,
   "metadata": {},
   "outputs": [],
   "source": [
    "#Separate and assign data from string\n",
    "f_name = []\n",
    "l_name = []\n",
    "rank = []\n",
    "for text in name_rank:\n",
    "    fn = text.split(\"+\")[0]\n",
    "    ln_r = text.split(\"+\")[-1]\n",
    "    ln = ln_r.split(\"_\")[0]\n",
    "    r = ln_r.split(\"_\")[-1]\n",
    "    f_name.append(fn)\n",
    "    l_name.append(ln)\n",
    "    rank.append(r)"
   ]
  },
  {
   "cell_type": "code",
   "execution_count": 24,
   "metadata": {},
   "outputs": [],
   "source": [
    "#Clean up string entries\n",
    "for name in l_name:\n",
    "    apost = \"%27\"\n",
    "    if search(apost, name):\n",
    "        name = name.replace(apost, \"'\")"
   ]
  },
  {
   "cell_type": "code",
   "execution_count": 25,
   "metadata": {},
   "outputs": [],
   "source": [
    "#Construct dataframe using entry lists \n",
    "dict = {'Year': year, 'Event': event, 'First Name': f_name, 'Last Name': l_name, 'Rank': rank}  \n",
    "df = pd.DataFrame(dict) "
   ]
  },
  {
   "cell_type": "code",
   "execution_count": 26,
   "metadata": {},
   "outputs": [
    {
     "data": {
      "text/html": [
       "<div>\n",
       "<style scoped>\n",
       "    .dataframe tbody tr th:only-of-type {\n",
       "        vertical-align: middle;\n",
       "    }\n",
       "\n",
       "    .dataframe tbody tr th {\n",
       "        vertical-align: top;\n",
       "    }\n",
       "\n",
       "    .dataframe thead th {\n",
       "        text-align: right;\n",
       "    }\n",
       "</style>\n",
       "<table border=\"1\" class=\"dataframe\">\n",
       "  <thead>\n",
       "    <tr style=\"text-align: right;\">\n",
       "      <th></th>\n",
       "      <th>Year</th>\n",
       "      <th>Event</th>\n",
       "      <th>First Name</th>\n",
       "      <th>Last Name</th>\n",
       "      <th>Rank</th>\n",
       "    </tr>\n",
       "  </thead>\n",
       "  <tbody>\n",
       "    <tr>\n",
       "      <th>190</th>\n",
       "      <td>2017</td>\n",
       "      <td>USPORTSXCMen</td>\n",
       "      <td>Samuel</td>\n",
       "      <td>Kinahan</td>\n",
       "      <td>91</td>\n",
       "    </tr>\n",
       "    <tr>\n",
       "      <th>191</th>\n",
       "      <td>2017</td>\n",
       "      <td>USPORTSXCMen</td>\n",
       "      <td>Nicolas</td>\n",
       "      <td>Gilbert</td>\n",
       "      <td>92</td>\n",
       "    </tr>\n",
       "    <tr>\n",
       "      <th>192</th>\n",
       "      <td>2017</td>\n",
       "      <td>USPORTSXCMen</td>\n",
       "      <td>Alex</td>\n",
       "      <td>Hoerner</td>\n",
       "      <td>93</td>\n",
       "    </tr>\n",
       "    <tr>\n",
       "      <th>193</th>\n",
       "      <td>2017</td>\n",
       "      <td>USPORTSXCMen</td>\n",
       "      <td>Patrique</td>\n",
       "      <td>Bulloch</td>\n",
       "      <td>94</td>\n",
       "    </tr>\n",
       "    <tr>\n",
       "      <th>194</th>\n",
       "      <td>2017</td>\n",
       "      <td>USPORTSXCMen</td>\n",
       "      <td>Deric</td>\n",
       "      <td>Kornelson</td>\n",
       "      <td>95</td>\n",
       "    </tr>\n",
       "    <tr>\n",
       "      <th>195</th>\n",
       "      <td>2017</td>\n",
       "      <td>USPORTSXCMen</td>\n",
       "      <td>Nick</td>\n",
       "      <td>Wood</td>\n",
       "      <td>96</td>\n",
       "    </tr>\n",
       "    <tr>\n",
       "      <th>196</th>\n",
       "      <td>2017</td>\n",
       "      <td>USPORTSXCMen</td>\n",
       "      <td>Thomas</td>\n",
       "      <td>Vries</td>\n",
       "      <td>97</td>\n",
       "    </tr>\n",
       "    <tr>\n",
       "      <th>197</th>\n",
       "      <td>2017</td>\n",
       "      <td>USPORTSXCMen</td>\n",
       "      <td>Riley</td>\n",
       "      <td>Stuermer</td>\n",
       "      <td>98</td>\n",
       "    </tr>\n",
       "    <tr>\n",
       "      <th>198</th>\n",
       "      <td>2017</td>\n",
       "      <td>USPORTSXCMen</td>\n",
       "      <td>Dan</td>\n",
       "      <td>Hilbers</td>\n",
       "      <td>99</td>\n",
       "    </tr>\n",
       "    <tr>\n",
       "      <th>199</th>\n",
       "      <td>2017</td>\n",
       "      <td>USPORTSXCMen</td>\n",
       "      <td>Aaron</td>\n",
       "      <td>Boyle</td>\n",
       "      <td>100</td>\n",
       "    </tr>\n",
       "  </tbody>\n",
       "</table>\n",
       "</div>"
      ],
      "text/plain": [
       "     Year         Event First Name  Last Name Rank\n",
       "190  2017  USPORTSXCMen     Samuel    Kinahan   91\n",
       "191  2017  USPORTSXCMen    Nicolas    Gilbert   92\n",
       "192  2017  USPORTSXCMen       Alex    Hoerner   93\n",
       "193  2017  USPORTSXCMen   Patrique    Bulloch   94\n",
       "194  2017  USPORTSXCMen      Deric  Kornelson   95\n",
       "195  2017  USPORTSXCMen       Nick       Wood   96\n",
       "196  2017  USPORTSXCMen     Thomas      Vries   97\n",
       "197  2017  USPORTSXCMen      Riley   Stuermer   98\n",
       "198  2017  USPORTSXCMen        Dan    Hilbers   99\n",
       "199  2017  USPORTSXCMen      Aaron      Boyle  100"
      ]
     },
     "execution_count": 26,
     "metadata": {},
     "output_type": "execute_result"
    }
   ],
   "source": [
    "#Preview Dataframe\n",
    "df.tail(10)"
   ]
  },
  {
   "cell_type": "code",
   "execution_count": 57,
   "metadata": {},
   "outputs": [],
   "source": [
    "#Export data in csv\n",
    "filename = str(year[0]) + \" \" + str(event[0]) + \" \"  + \"Data\"\n",
    "file = df.to_csv(filename,index=False)"
   ]
  }
 ],
 "metadata": {
  "kernelspec": {
   "display_name": "Python 3",
   "language": "python",
   "name": "python3"
  },
  "language_info": {
   "codemirror_mode": {
    "name": "ipython",
    "version": 3
   },
   "file_extension": ".py",
   "mimetype": "text/x-python",
   "name": "python",
   "nbconvert_exporter": "python",
   "pygments_lexer": "ipython3",
   "version": "3.7.8"
  }
 },
 "nbformat": 4,
 "nbformat_minor": 4
}
